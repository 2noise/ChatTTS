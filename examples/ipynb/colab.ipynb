{
  "cells": [
    {
      "cell_type": "markdown",
      "metadata": {
        "id": "xYJFXKP9xhQM"
      },
      "source": [
        "## Clone Repo"
      ]
    },
    {
      "cell_type": "code",
      "execution_count": null,
      "metadata": {
        "id": "hegwDOfffwzw"
      },
      "outputs": [],
      "source": [
        "!cd /content\n",
        "!rm -rf sample_data ChatTTS\n",
        "!git clone https://github.com/2noise/ChatTTS.git\n",
        "!pip install -r /content/ChatTTS/requirements.txt\n",
        "!ldconfig /usr/lib64-nvidia"
      ]
    },
    {
      "cell_type": "markdown",
      "metadata": {
        "id": "zdzEFoknxqTH"
      },
      "source": [
        "## Import Libs"
      ]
    },
    {
      "cell_type": "code",
      "execution_count": null,
      "metadata": {
        "id": "lDSQ6Xf-bSre"
      },
      "outputs": [],
      "source": [
        "from dotenv import load_dotenv\n",
        "load_dotenv(\"ChatTTS/sha256.env\")\n",
        "\n",
        "import torch\n",
        "torch._dynamo.config.cache_size_limit = 64\n",
        "torch._dynamo.config.suppress_errors = True\n",
        "torch.set_float32_matmul_precision('high')\n",
        "\n",
        "from ChatTTS import ChatTTS\n",
        "from ChatTTS.tools.logger import get_logger\n",
        "from IPython.display import Audio"
      ]
    },
    {
      "cell_type": "markdown",
      "metadata": {
        "id": "vBzG5gxcbSrf"
      },
      "source": [
        "## Load Models"
      ]
    },
    {
      "cell_type": "code",
      "execution_count": null,
      "metadata": {
        "id": "e0QSkngRbSrg"
      },
      "outputs": [],
      "source": [
        "chat = ChatTTS.Chat(get_logger(\"ChatTTS\"))"
      ]
    },
    {
      "cell_type": "markdown",
      "metadata": {},
      "source": [
        "### Here are three choices for loading models:"
      ]
    },
    {
      "cell_type": "markdown",
      "metadata": {},
      "source": [
        "#### 1. Load models from Hugging Face:"
      ]
    },
    {
      "cell_type": "code",
      "execution_count": null,
      "metadata": {},
      "outputs": [],
      "source": [
        "# use force_redownload=True if the weights have been updated.\n",
        "chat.load_models(source='huggingface', force_redownload=True)"
      ]
    },
    {
      "cell_type": "markdown",
      "metadata": {},
      "source": [
        "#### 2. Load models from local directories 'asset' and 'config':"
      ]
    },
    {
      "cell_type": "code",
      "execution_count": null,
      "metadata": {},
      "outputs": [],
      "source": [
        "chat.load_models()\n",
        "# chat.load_models(source='local') same as above"
      ]
    },
    {
      "cell_type": "markdown",
      "metadata": {},
      "source": [
        "#### 3. Load models from a custom path:"
      ]
    },
    {
      "cell_type": "code",
      "execution_count": null,
      "metadata": {},
      "outputs": [],
      "source": [
        "# write the model path into custom_path\n",
        "chat.load_models(source='custom', custom_path='YOUR CUSTOM PATH')"
      ]
    },
    {
      "cell_type": "markdown",
      "metadata": {
        "id": "bAUs0rGQbSrh"
      },
      "source": [
        "## Inference"
      ]
    },
    {
      "cell_type": "markdown",
      "metadata": {
        "id": "NPZ2SFksbSrh"
      },
      "source": [
        "### Batch infer"
      ]
    },
    {
      "cell_type": "code",
      "execution_count": null,
      "metadata": {
        "id": "Su9FmUYAbSrh"
      },
      "outputs": [],
      "source": [
        "texts = [\"So we found being competitive and collaborative was a huge way of staying motivated towards our goals, so one person to call when you fall off, one person who gets you back on then one person to actually do the activity with.\",]*3 \\\n",
        "        + [\"我觉得像我们这些写程序的人，他，我觉得多多少少可能会对开源有一种情怀在吧我觉得开源是一个很好的形式。现在其实最先进的技术掌握在一些公司的手里的话，就他们并不会轻易的开放给所有的人用。\"]*3\n",
        "\n",
        "wavs = chat.infer(texts)"
      ]
    },
    {
      "cell_type": "code",
      "execution_count": null,
      "metadata": {
        "id": "YQRwB8lpbSri"
      },
      "outputs": [],
      "source": [
        "Audio(wavs[0], rate=24_000, autoplay=True)"
      ]
    },
    {
      "cell_type": "code",
      "execution_count": null,
      "metadata": {
        "id": "LuFG6m7AbSri"
      },
      "outputs": [],
      "source": [
        "Audio(wavs[3], rate=24_000, autoplay=True)"
      ]
    },
    {
      "cell_type": "markdown",
      "metadata": {
        "id": "oLhAGvkfbSrj"
      },
      "source": [
        "### Custom params"
      ]
    },
    {
      "cell_type": "code",
      "execution_count": null,
      "metadata": {
        "id": "kma0HBEBbSrj"
      },
      "outputs": [],
      "source": [
        "params_infer_code = {'prompt':'[speed_5]', 'temperature':.3}\n",
        "params_refine_text = {'prompt':'[oral_2][laugh_0][break_6]'}\n",
        "\n",
        "wav = chat.infer('四川美食可多了，有麻辣火锅、宫保鸡丁、麻婆豆腐、担担面、回锅肉、夫妻肺片等，每样都让人垂涎三尺。', \\\n",
        "    params_refine_text=params_refine_text, params_infer_code=params_infer_code)"
      ]
    },
    {
      "cell_type": "code",
      "execution_count": null,
      "metadata": {
        "id": "Nl_mT9KpbSrj"
      },
      "outputs": [],
      "source": [
        "Audio(wav[0], rate=24_000, autoplay=True)"
      ]
    },
    {
      "cell_type": "markdown",
      "metadata": {
        "id": "JfAba-tTbSrk"
      },
      "source": [
        "### fix random speaker"
      ]
    },
    {
      "cell_type": "code",
      "execution_count": null,
      "metadata": {
        "id": "Qh7dcWrAbSrk"
      },
      "outputs": [],
      "source": [
        "rand_spk = chat.sample_random_speaker()\n",
        "params_infer_code = {'spk_emb' : rand_spk, }\n",
        "\n",
        "wav = chat.infer('四川美食确实以辣闻名，但也有不辣的选择。比如甜水面、赖汤圆、蛋烘糕、叶儿粑等，这些小吃口味温和，甜而不腻，也很受欢迎。', \\\n",
        "    params_refine_text=params_refine_text, params_infer_code=params_infer_code)"
      ]
    },
    {
      "cell_type": "code",
      "execution_count": null,
      "metadata": {
        "id": "0ljWDWzabSrk"
      },
      "outputs": [],
      "source": [
        "Audio(wav[0], rate=24_000, autoplay=True)"
      ]
    },
    {
      "cell_type": "markdown",
      "metadata": {
        "id": "u1q-BcUKbSrl"
      },
      "source": [
        "### Two stage control"
      ]
    },
    {
      "cell_type": "code",
      "execution_count": null,
      "metadata": {
        "id": "3hAAc0lJbSrl"
      },
      "outputs": [],
      "source": [
        "text = \"So we found being competitive and collaborative was a huge way of staying motivated towards our goals, so one person to call when you fall off, one person who gets you back on then one person to actually do the activity with.\"\n",
        "refined_text = chat.infer(text, refine_text_only=True)\n",
        "refined_text"
      ]
    },
    {
      "cell_type": "code",
      "execution_count": null,
      "metadata": {
        "id": "0GVJxhd3BKQX"
      },
      "outputs": [],
      "source": [
        "wav = chat.infer(refined_text)"
      ]
    },
    {
      "cell_type": "code",
      "execution_count": null,
      "metadata": {
        "id": "ngyMht74BicY"
      },
      "outputs": [],
      "source": [
        "Audio(wav[0], rate=24_000, autoplay=True)"
      ]
    },
    {
      "cell_type": "code",
      "execution_count": null,
      "metadata": {
        "id": "R2WjuVrWbSrl"
      },
      "outputs": [],
      "source": [
        "text = 'so we found being competitive and collaborative [uv_break] was a huge way of staying [uv_break] motivated towards our goals, [uv_break] so [uv_break] one person to call [uv_break] when you fall off, [uv_break] one person who [uv_break] gets you back [uv_break] on then [uv_break] one person [uv_break] to actually do the activity with.'\n",
        "wav = chat.infer(text, skip_refine_text=True)"
      ]
    },
    {
      "cell_type": "code",
      "execution_count": null,
      "metadata": {
        "id": "71Y4pBdl-_Yd"
      },
      "outputs": [],
      "source": [
        "Audio(wav[0], rate=24_000, autoplay=True)"
      ]
    },
    {
      "cell_type": "markdown",
      "metadata": {
        "id": "GG5AMbQbbSrl"
      },
      "source": [
        "## LLM Call"
      ]
    },
    {
      "cell_type": "code",
      "execution_count": null,
      "metadata": {
        "id": "3rkfwc3UbSrl"
      },
      "outputs": [],
      "source": [
        "from ChatTTS.experimental.llm import llm_api\n",
        "\n",
        "API_KEY = ''\n",
        "client = llm_api(api_key=API_KEY,\n",
        "        base_url=\"https://api.deepseek.com\",\n",
        "        model=\"deepseek-chat\")"
      ]
    },
    {
      "cell_type": "code",
      "execution_count": null,
      "metadata": {
        "id": "TTkIsXozbSrm"
      },
      "outputs": [],
      "source": [
        "user_question = '四川有哪些好吃的美食呢?'\n",
        "text = client.call(user_question, prompt_version = 'deepseek')\n",
        "print(text)\n",
        "text = client.call(text, prompt_version = 'deepseek_TN')\n",
        "print(text)"
      ]
    },
    {
      "cell_type": "code",
      "execution_count": null,
      "metadata": {
        "id": "qNhCJG4VbSrm"
      },
      "outputs": [],
      "source": [
        "params_infer_code = {'spk_emb' : rand_spk, 'temperature':.3}\n",
        "\n",
        "wav = chat.infer(text, params_infer_code=params_infer_code)"
      ]
    }
  ],
  "metadata": {
    "accelerator": "GPU",
    "colab": {
      "collapsed_sections": [
        "bAUs0rGQbSrh"
      ],
      "gpuType": "T4",
      "provenance": []
    },
    "kernelspec": {
      "display_name": "Python 3",
      "name": "python3"
    },
    "language_info": {
      "codemirror_mode": {
        "name": "ipython",
        "version": 3
      },
      "file_extension": ".py",
      "mimetype": "text/x-python",
      "name": "python",
      "nbconvert_exporter": "python",
      "pygments_lexer": "ipython3",
      "version": "3.10.8"
    }
  },
  "nbformat": 4,
  "nbformat_minor": 0
}
